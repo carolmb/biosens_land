{
 "cells": [
  {
   "cell_type": "code",
   "execution_count": null,
   "metadata": {},
   "outputs": [],
   "source": [
    "pip install git+https://github.com/filipinascimento/WOS.git -U"
   ]
  },
  {
   "cell_type": "code",
   "execution_count": null,
   "metadata": {},
   "outputs": [],
   "source": [
    "pip install dbgz -U"
   ]
  },
  {
   "cell_type": "code",
   "execution_count": null,
   "metadata": {},
   "outputs": [],
   "source": [
    "pip install git+https://github.com/filipinascimento/WOSRaw.git"
   ]
  },
  {
   "cell_type": "code",
   "execution_count": 2,
   "metadata": {
    "execution": {
     "iopub.execute_input": "2024-02-07T03:42:48.450546Z",
     "iopub.status.busy": "2024-02-07T03:42:48.450271Z",
     "iopub.status.idle": "2024-02-07T03:42:48.625069Z",
     "shell.execute_reply": "2024-02-07T03:42:48.624206Z",
     "shell.execute_reply.started": "2024-02-07T03:42:48.450527Z"
    }
   },
   "outputs": [],
   "source": [
    "import WOSRaw as wos\n",
    "import xnetwork as xnet"
   ]
  },
  {
   "cell_type": "code",
   "execution_count": 3,
   "metadata": {
    "execution": {
     "iopub.execute_input": "2024-02-07T03:42:48.798573Z",
     "iopub.status.busy": "2024-02-07T03:42:48.797762Z",
     "iopub.status.idle": "2024-02-07T03:42:49.528868Z",
     "shell.execute_reply": "2024-02-07T03:42:49.527784Z",
     "shell.execute_reply.started": "2024-02-07T03:42:48.798556Z"
    }
   },
   "outputs": [],
   "source": [
    "import json\n",
    "import glob\n",
    "import pandas as pd\n",
    "from nltk import ngrams"
   ]
  },
  {
   "cell_type": "code",
   "execution_count": 11,
   "metadata": {
    "execution": {
     "iopub.execute_input": "2024-02-08T13:37:12.135767Z",
     "iopub.status.busy": "2024-02-08T13:37:12.135511Z",
     "iopub.status.idle": "2024-02-08T13:37:22.665941Z",
     "shell.execute_reply": "2024-02-08T13:37:22.662444Z",
     "shell.execute_reply.started": "2024-02-08T13:37:12.135749Z"
    }
   },
   "outputs": [],
   "source": [
    "papers = json.loads(open('data/lang_mono_film/lang_mono_film_last.json').read())"
   ]
  },
  {
   "cell_type": "code",
   "execution_count": 12,
   "metadata": {
    "execution": {
     "iopub.execute_input": "2024-02-08T13:37:26.317253Z",
     "iopub.status.busy": "2024-02-08T13:37:26.316996Z",
     "iopub.status.idle": "2024-02-08T13:37:26.322487Z",
     "shell.execute_reply": "2024-02-08T13:37:26.321532Z",
     "shell.execute_reply.started": "2024-02-08T13:37:26.317235Z"
    }
   },
   "outputs": [
    {
     "data": {
      "text/plain": [
       "23806"
      ]
     },
     "execution_count": 12,
     "metadata": {},
     "output_type": "execute_result"
    }
   ],
   "source": [
    "len(papers)"
   ]
  },
  {
   "cell_type": "code",
   "execution_count": 22,
   "metadata": {
    "execution": {
     "iopub.execute_input": "2024-02-08T14:59:11.939288Z",
     "iopub.status.busy": "2024-02-08T14:59:11.938433Z",
     "iopub.status.idle": "2024-02-08T14:59:14.468823Z",
     "shell.execute_reply": "2024-02-08T14:59:14.467938Z",
     "shell.execute_reply.started": "2024-02-08T14:59:11.939267Z"
    }
   },
   "outputs": [],
   "source": [
    "names = []\n",
    "titles = []\n",
    "absts = []\n",
    "urefs = []\n",
    "\n",
    "for idx, entry in papers.iterrows():\n",
    "    uid = entry['UID']\n",
    "    title = wos.utilities.getTitle(entry)\n",
    "    abst = wos.utilities.getAbstract(entry)\n",
    "    refs = wos.utilities.getReferences(entry)\n",
    "    ud_refs = wos.utilities.getReferencesUIDs(refs)\n",
    "\n",
    "    names.append(uid)\n",
    "    titles.append(title)\n",
    "    absts.append(abst)\n",
    "    urefs.append(ud_refs)"
   ]
  },
  {
   "cell_type": "code",
   "execution_count": 25,
   "metadata": {
    "execution": {
     "iopub.execute_input": "2024-02-08T15:09:19.822168Z",
     "iopub.status.busy": "2024-02-08T15:09:19.821877Z",
     "iopub.status.idle": "2024-02-08T15:09:19.976685Z",
     "shell.execute_reply": "2024-02-08T15:09:19.975679Z",
     "shell.execute_reply.started": "2024-02-08T15:09:19.822148Z"
    }
   },
   "outputs": [],
   "source": [
    "edges = []\n",
    "names_set = set(names)\n",
    "for uid, ud_refs in zip(names, urefs):\n",
    "    for p in ud_refs:\n",
    "        if p in names_set:\n",
    "            pair = (uid, p)\n",
    "            edges.append(pair)"
   ]
  },
  {
   "cell_type": "code",
   "execution_count": 26,
   "metadata": {
    "execution": {
     "iopub.execute_input": "2024-02-08T15:09:26.179014Z",
     "iopub.status.busy": "2024-02-08T15:09:26.178728Z",
     "iopub.status.idle": "2024-02-08T15:09:26.184968Z",
     "shell.execute_reply": "2024-02-08T15:09:26.183783Z",
     "shell.execute_reply.started": "2024-02-08T15:09:26.178994Z"
    }
   },
   "outputs": [
    {
     "data": {
      "text/plain": [
       "106439"
      ]
     },
     "execution_count": 26,
     "metadata": {},
     "output_type": "execute_result"
    }
   ],
   "source": [
    "len(edges)"
   ]
  },
  {
   "cell_type": "code",
   "execution_count": 27,
   "metadata": {
    "execution": {
     "iopub.execute_input": "2024-02-08T15:09:30.479899Z",
     "iopub.status.busy": "2024-02-08T15:09:30.479626Z",
     "iopub.status.idle": "2024-02-08T15:09:30.483967Z",
     "shell.execute_reply": "2024-02-08T15:09:30.483085Z",
     "shell.execute_reply.started": "2024-02-08T15:09:30.479879Z"
    }
   },
   "outputs": [],
   "source": [
    "from igraph import Graph"
   ]
  },
  {
   "cell_type": "code",
   "execution_count": 35,
   "metadata": {
    "execution": {
     "iopub.execute_input": "2024-02-08T15:12:58.582895Z",
     "iopub.status.busy": "2024-02-08T15:12:58.582647Z",
     "iopub.status.idle": "2024-02-08T15:12:58.594993Z",
     "shell.execute_reply": "2024-02-08T15:12:58.594199Z",
     "shell.execute_reply.started": "2024-02-08T15:12:58.582877Z"
    }
   },
   "outputs": [],
   "source": [
    "absts = [' '.join(a) for a in absts]"
   ]
  },
  {
   "cell_type": "code",
   "execution_count": 36,
   "metadata": {
    "execution": {
     "iopub.execute_input": "2024-02-08T15:13:03.705083Z",
     "iopub.status.busy": "2024-02-08T15:13:03.704839Z",
     "iopub.status.idle": "2024-02-08T15:13:03.754230Z",
     "shell.execute_reply": "2024-02-08T15:13:03.753259Z",
     "shell.execute_reply.started": "2024-02-08T15:13:03.705066Z"
    }
   },
   "outputs": [],
   "source": [
    "net = Graph()\n",
    "net.add_vertices(len(names))\n",
    "net.vs['name'] = names\n",
    "net.vs['title'] = titles\n",
    "net.vs['abstract'] = absts\n",
    "net.add_edges(edges)"
   ]
  },
  {
   "cell_type": "code",
   "execution_count": 37,
   "metadata": {
    "execution": {
     "iopub.execute_input": "2024-02-08T15:13:05.060607Z",
     "iopub.status.busy": "2024-02-08T15:13:05.060346Z",
     "iopub.status.idle": "2024-02-08T15:13:05.065508Z",
     "shell.execute_reply": "2024-02-08T15:13:05.064928Z",
     "shell.execute_reply.started": "2024-02-08T15:13:05.060588Z"
    }
   },
   "outputs": [
    {
     "data": {
      "text/plain": [
       "23806"
      ]
     },
     "execution_count": 37,
     "metadata": {},
     "output_type": "execute_result"
    }
   ],
   "source": [
    "net.vcount()"
   ]
  },
  {
   "cell_type": "code",
   "execution_count": 38,
   "metadata": {
    "execution": {
     "iopub.execute_input": "2024-02-08T15:13:05.490966Z",
     "iopub.status.busy": "2024-02-08T15:13:05.490685Z",
     "iopub.status.idle": "2024-02-08T15:13:05.496195Z",
     "shell.execute_reply": "2024-02-08T15:13:05.495441Z",
     "shell.execute_reply.started": "2024-02-08T15:13:05.490947Z"
    }
   },
   "outputs": [
    {
     "data": {
      "text/plain": [
       "106439"
      ]
     },
     "execution_count": 38,
     "metadata": {},
     "output_type": "execute_result"
    }
   ],
   "source": [
    "net.ecount()"
   ]
  },
  {
   "cell_type": "code",
   "execution_count": 39,
   "metadata": {
    "execution": {
     "iopub.execute_input": "2024-02-08T15:13:06.059926Z",
     "iopub.status.busy": "2024-02-08T15:13:06.059668Z",
     "iopub.status.idle": "2024-02-08T15:13:06.743988Z",
     "shell.execute_reply": "2024-02-08T15:13:06.743080Z",
     "shell.execute_reply.started": "2024-02-08T15:13:06.059908Z"
    }
   },
   "outputs": [],
   "source": [
    "xnet.igraph2xnet(net, 'cit_lang_mono_film_network_luan_08_02.xnet')"
   ]
  },
  {
   "cell_type": "code",
   "execution_count": 40,
   "metadata": {
    "execution": {
     "iopub.execute_input": "2024-02-08T15:13:09.606713Z",
     "iopub.status.busy": "2024-02-08T15:13:09.605798Z",
     "iopub.status.idle": "2024-02-08T15:13:09.611536Z",
     "shell.execute_reply": "2024-02-08T15:13:09.610713Z",
     "shell.execute_reply.started": "2024-02-08T15:13:09.606692Z"
    }
   },
   "outputs": [
    {
     "data": {
      "text/plain": [
       "['name', 'title', 'abstract']"
      ]
     },
     "execution_count": 40,
     "metadata": {},
     "output_type": "execute_result"
    }
   ],
   "source": [
    "net.vs.attributes()"
   ]
  },
  {
   "cell_type": "code",
   "execution_count": null,
   "metadata": {},
   "outputs": [],
   "source": []
  }
 ],
 "metadata": {
  "kernelspec": {
   "display_name": "Python 3 (ipykernel)",
   "language": "python",
   "name": "python3"
  },
  "language_info": {
   "codemirror_mode": {
    "name": "ipython",
    "version": 3
   },
   "file_extension": ".py",
   "mimetype": "text/x-python",
   "name": "python",
   "nbconvert_exporter": "python",
   "pygments_lexer": "ipython3",
   "version": "3.8.10"
  }
 },
 "nbformat": 4,
 "nbformat_minor": 4
}
