{
 "cells": [
  {
   "cell_type": "code",
   "execution_count": null,
   "metadata": {},
   "outputs": [],
   "source": [
    "pip install git+https://github.com/filipinascimento/WOS.git -U"
   ]
  },
  {
   "cell_type": "code",
   "execution_count": null,
   "metadata": {},
   "outputs": [],
   "source": [
    "pip install dbgz -U"
   ]
  },
  {
   "cell_type": "code",
   "execution_count": null,
   "metadata": {},
   "outputs": [],
   "source": [
    "pip install git+https://github.com/filipinascimento/WOSRaw.git"
   ]
  },
  {
   "cell_type": "code",
   "execution_count": 29,
   "metadata": {
    "execution": {
     "iopub.execute_input": "2024-02-02T14:17:46.184503Z",
     "iopub.status.busy": "2024-02-02T14:17:46.184223Z",
     "iopub.status.idle": "2024-02-02T14:17:46.289825Z",
     "shell.execute_reply": "2024-02-02T14:17:46.288935Z",
     "shell.execute_reply.started": "2024-02-02T14:17:46.184481Z"
    }
   },
   "outputs": [],
   "source": [
    "import WOSRaw as wos\n",
    "import xnetwork as xnet"
   ]
  },
  {
   "cell_type": "code",
   "execution_count": 1,
   "metadata": {
    "execution": {
     "iopub.execute_input": "2024-02-02T14:02:32.306880Z",
     "iopub.status.busy": "2024-02-02T14:02:32.306624Z",
     "iopub.status.idle": "2024-02-02T14:02:33.298334Z",
     "shell.execute_reply": "2024-02-02T14:02:33.297379Z",
     "shell.execute_reply.started": "2024-02-02T14:02:32.306861Z"
    }
   },
   "outputs": [],
   "source": [
    "import json\n",
    "import glob\n",
    "import pandas as pd\n",
    "from nltk import ngrams"
   ]
  },
  {
   "cell_type": "code",
   "execution_count": 2,
   "metadata": {
    "execution": {
     "iopub.execute_input": "2024-02-02T14:02:33.299999Z",
     "iopub.status.busy": "2024-02-02T14:02:33.299700Z",
     "iopub.status.idle": "2024-02-02T14:02:33.306144Z",
     "shell.execute_reply": "2024-02-02T14:02:33.305279Z",
     "shell.execute_reply.started": "2024-02-02T14:02:33.299978Z"
    }
   },
   "outputs": [],
   "source": [
    "files = glob.glob(\"data/sens_papers*.json\")"
   ]
  },
  {
   "cell_type": "code",
   "execution_count": 36,
   "metadata": {
    "execution": {
     "iopub.execute_input": "2024-02-02T14:22:33.702144Z",
     "iopub.status.busy": "2024-02-02T14:22:33.701440Z",
     "iopub.status.idle": "2024-02-02T14:22:33.710317Z",
     "shell.execute_reply": "2024-02-02T14:22:33.708957Z",
     "shell.execute_reply.started": "2024-02-02T14:22:33.702121Z"
    }
   },
   "outputs": [],
   "source": [
    "first_term = [('machine', 'learning'),\n",
    " ('deep', 'learning'),\n",
    " ('artificial', 'intelligence'),\n",
    " ('large', 'language', 'model'),\n",
    " ('natural', 'language', 'processing'),\n",
    " ('computational', 'vision'),\n",
    " ('computer', 'vision')]\n",
    "\n",
    "second_term_startwith = ['sensor', 'biosensor', 'immounosensor', \n",
    "               'genosensor', 'immunoassay', 'genoassay', 'assay', \n",
    "               'e-tongue', 'etongue', 'e-nose', 'enose']\n",
    "second_term = [('sensing'),\n",
    "('electronic', 'tongue'),               \n",
    "('electronic', 'nose')]\n",
    "\n",
    "third_term = ['diagnos', 'detect', 'predict', 'screen', 'measur', 'monitor']\n",
    "\n",
    "\n",
    "def is_valid_start_or(terms, title):\n",
    "    words = title.split()\n",
    "    for word in words:\n",
    "        for term in terms:\n",
    "            if word.startswith(term):\n",
    "                return True\n",
    "    return False\n",
    "\n",
    "def is_valid_n_gram(terms, title):\n",
    "    terms1 = set(terms)\n",
    "    title_ngrams = list(ngrams(title, 1)) + list(ngrams(title, 2)) + list(ngrams(title, 3))    \n",
    "    title_ngrams = set(title_ngrams)\n",
    "    return len(title_ngrams & terms1) > 0\n",
    "\n",
    "def valid_complete(title):\n",
    "    title1 = title.lower()\n",
    "    valid_first = is_valid_n_gram(first_term, title1.split())\n",
    "    # print(valid_first, 'first')\n",
    "    valid_second = is_valid_n_gram(second_term, title1) or is_valid_start_or(second_term_startwith, title1)\n",
    "    # print(valid_second, 'second')\n",
    "    valid_third = is_valid_start_or(third_term, title1)\n",
    "    # print(valid_third, 'third')\n",
    "    \n",
    "    return valid_first and valid_second and valid_third\n",
    "\n",
    "# def is_valid_term(title):\n",
    "#     keyterms1 = {('ml',), ('ai',)}\n",
    "#     keyterms2 = {('machine', 'learning'), ('artificial', 'intelligence')}\n",
    "#     keyterm3 = 'sens'\n",
    "    \n",
    "#     ngrams1 = set(ngrams(title, 1))\n",
    "#     ngrams2 = set(ngrams(title, 2))\n",
    "\n",
    "#     valid = False\n",
    "#     for ngram in ngrams1:\n",
    "#         if ngram[0].startswith(keyterm3):\n",
    "#             valid = True\n",
    "\n",
    "#     if not valid:\n",
    "#         return False\n",
    "#     if len(keyterms1 & ngrams1) > 0:\n",
    "#         return True\n",
    "#     if len(keyterms2 & ngrams2) > 0:\n",
    "#         return True\n",
    "        \n",
    "#     return False\n",
    "\n"
   ]
  },
  {
   "cell_type": "code",
   "execution_count": null,
   "metadata": {
    "execution": {
     "iopub.execute_input": "2024-02-02T14:22:34.221884Z",
     "iopub.status.busy": "2024-02-02T14:22:34.221466Z"
    }
   },
   "outputs": [],
   "source": [
    "titles = []\n",
    "abstracts = []\n",
    "count = 0\n",
    "valid_papers = []\n",
    "for file in files:\n",
    "    data = pd.read_json(file)\n",
    "    for idx, entry in data.iterrows():\n",
    "        title = wos.utilities.getTitle(entry)\n",
    "        is_valid1 = valid_complete(title)\n",
    "        # print(ngrams2)\n",
    "        abst = ' '.join(wos.utilities.getAbstract(entry)).lower()\n",
    "        is_valid2 = False\n",
    "        \n",
    "        if abst != '':\n",
    "            is_valid2 = valid_complete(abst)\n",
    "    \n",
    "        if is_valid1 or is_valid2:\n",
    "            count += 1\n",
    "            refs = wos.utilities.getReferences(entry)\n",
    "            uids_refs = wos.utilities.getReferencesUIDs(refs)\n",
    "            valid_papers.append((entry['UID'], uids_refs))\n",
    "            titles.append(title)\n",
    "            abstracts.append(abst)\n",
    "            # break\n",
    "            \n",
    "    # break"
   ]
  },
  {
   "cell_type": "code",
   "execution_count": 59,
   "metadata": {
    "execution": {
     "iopub.execute_input": "2024-02-06T23:52:10.065258Z",
     "iopub.status.busy": "2024-02-06T23:52:10.064989Z",
     "iopub.status.idle": "2024-02-06T23:52:10.071543Z",
     "shell.execute_reply": "2024-02-06T23:52:10.070614Z",
     "shell.execute_reply.started": "2024-02-06T23:52:10.065237Z"
    }
   },
   "outputs": [
    {
     "data": {
      "text/plain": [
       "['AI-Augmented Behavior Analysis for Children With Developmental Disabilities: Building Toward Precision Treatment',\n",
       " 'Hand tremor detection in videos with cluttered background using neural network based approaches',\n",
       " 'Predictive asset availability optimization for underground trucks and loaders in the mining industry',\n",
       " 'Integrating BIM into sensor-based facilities management operations',\n",
       " 'Detecting and locating cyber and physical stresses in smart grids using the k-nearest neighbour analysis of instantaneous correlation of states',\n",
       " 'Emphasizing privacy and security of edge intelligence with machine learning for healthcare',\n",
       " 'DeepNeurite (TM): Identification of neurites from non-specific binding of fluorescence probes through deep learning',\n",
       " 'Visual image and radio signal fusion identification based on convolutional neural networks',\n",
       " 'Knowledge extraction for automatic driving control by using local correlation features',\n",
       " 'ECG diagnostic support system (EDSS): A deep learning neural network based classification system for detecting ECG abnormal rhythms from a low-powered wearable biosensors']"
      ]
     },
     "execution_count": 59,
     "metadata": {},
     "output_type": "execute_result"
    }
   ],
   "source": [
    "titles[:10]"
   ]
  },
  {
   "cell_type": "code",
   "execution_count": 40,
   "metadata": {
    "execution": {
     "iopub.execute_input": "2024-02-03T09:36:18.974959Z",
     "iopub.status.busy": "2024-02-03T09:36:18.974672Z",
     "iopub.status.idle": "2024-02-03T09:36:18.981205Z",
     "shell.execute_reply": "2024-02-03T09:36:18.980228Z",
     "shell.execute_reply.started": "2024-02-03T09:36:18.974938Z"
    }
   },
   "outputs": [
    {
     "data": {
      "text/plain": [
       "11341"
      ]
     },
     "execution_count": 40,
     "metadata": {},
     "output_type": "execute_result"
    }
   ],
   "source": [
    "len(valid_papers)"
   ]
  },
  {
   "cell_type": "code",
   "execution_count": 61,
   "metadata": {
    "execution": {
     "iopub.execute_input": "2024-01-17T15:30:10.030143Z",
     "iopub.status.busy": "2024-01-17T15:30:10.029773Z",
     "iopub.status.idle": "2024-01-17T15:30:10.057730Z",
     "shell.execute_reply": "2024-01-17T15:30:10.056472Z",
     "shell.execute_reply.started": "2024-01-17T15:30:10.030061Z"
    }
   },
   "outputs": [
    {
     "data": {
      "text/plain": [
       "45132"
      ]
     },
     "execution_count": 61,
     "metadata": {},
     "output_type": "execute_result"
    }
   ],
   "source": [
    "len(titles)"
   ]
  },
  {
   "cell_type": "code",
   "execution_count": 41,
   "metadata": {
    "execution": {
     "iopub.execute_input": "2024-02-03T09:36:50.544659Z",
     "iopub.status.busy": "2024-02-03T09:36:50.544356Z",
     "iopub.status.idle": "2024-02-03T09:36:50.673750Z",
     "shell.execute_reply": "2024-02-03T09:36:50.672706Z",
     "shell.execute_reply.started": "2024-02-03T09:36:50.544639Z"
    }
   },
   "outputs": [],
   "source": [
    "output = open('data/sens_ml_ai_papers_03_02.json', 'w')\n",
    "output.write(json.dumps(valid_papers))\n",
    "output.close()"
   ]
  },
  {
   "cell_type": "code",
   "execution_count": 43,
   "metadata": {
    "execution": {
     "iopub.execute_input": "2024-02-06T20:31:44.195160Z",
     "iopub.status.busy": "2024-02-06T20:31:44.194877Z",
     "iopub.status.idle": "2024-02-06T20:31:44.459449Z",
     "shell.execute_reply": "2024-02-06T20:31:44.458717Z",
     "shell.execute_reply.started": "2024-02-06T20:31:44.195140Z"
    }
   },
   "outputs": [
    {
     "name": "stdout",
     "output_type": "stream",
     "text": [
      "11341\n"
     ]
    },
    {
     "data": {
      "text/html": [
       "<div>\n",
       "<style scoped>\n",
       "    .dataframe tbody tr th:only-of-type {\n",
       "        vertical-align: middle;\n",
       "    }\n",
       "\n",
       "    .dataframe tbody tr th {\n",
       "        vertical-align: top;\n",
       "    }\n",
       "\n",
       "    .dataframe thead th {\n",
       "        text-align: right;\n",
       "    }\n",
       "</style>\n",
       "<table border=\"1\" class=\"dataframe\">\n",
       "  <thead>\n",
       "    <tr style=\"text-align: right;\">\n",
       "      <th></th>\n",
       "      <th>0</th>\n",
       "      <th>1</th>\n",
       "    </tr>\n",
       "  </thead>\n",
       "  <tbody>\n",
       "    <tr>\n",
       "      <th>0</th>\n",
       "      <td>WOS:000711703000007</td>\n",
       "      <td>[WOS:000454996700009, , WOS:000549646700010, I...</td>\n",
       "    </tr>\n",
       "    <tr>\n",
       "      <th>1</th>\n",
       "      <td>WOS:000672437400001</td>\n",
       "      <td>[WOS:000280543604256, WOS:000291142600016, WOS...</td>\n",
       "    </tr>\n",
       "    <tr>\n",
       "      <th>2</th>\n",
       "      <td>WOS:000612302800001</td>\n",
       "      <td>[WOS:000377043400002, , INSPEC:14339154, , WOS...</td>\n",
       "    </tr>\n",
       "    <tr>\n",
       "      <th>3</th>\n",
       "      <td>WOS:000609377000001</td>\n",
       "      <td>[, , , WOS:000214300300002, WOS:00021003240001...</td>\n",
       "    </tr>\n",
       "    <tr>\n",
       "      <th>4</th>\n",
       "      <td>WOS:000632562300001</td>\n",
       "      <td>[WOS:000442348400005, , , WOS:000347558200001,...</td>\n",
       "    </tr>\n",
       "  </tbody>\n",
       "</table>\n",
       "</div>"
      ],
      "text/plain": [
       "                     0                                                  1\n",
       "0  WOS:000711703000007  [WOS:000454996700009, , WOS:000549646700010, I...\n",
       "1  WOS:000672437400001  [WOS:000280543604256, WOS:000291142600016, WOS...\n",
       "2  WOS:000612302800001  [WOS:000377043400002, , INSPEC:14339154, , WOS...\n",
       "3  WOS:000609377000001  [, , , WOS:000214300300002, WOS:00021003240001...\n",
       "4  WOS:000632562300001  [WOS:000442348400005, , , WOS:000347558200001,..."
      ]
     },
     "execution_count": 43,
     "metadata": {},
     "output_type": "execute_result"
    }
   ],
   "source": [
    "papers = pd.read_json('data/sens_ml_ai_papers_03_02.json')\n",
    "print(len(papers))\n",
    "papers.head()"
   ]
  },
  {
   "cell_type": "code",
   "execution_count": 44,
   "metadata": {
    "execution": {
     "iopub.execute_input": "2024-02-06T20:38:39.146205Z",
     "iopub.status.busy": "2024-02-06T20:38:39.145853Z",
     "iopub.status.idle": "2024-02-06T20:38:39.685015Z",
     "shell.execute_reply": "2024-02-06T20:38:39.684214Z",
     "shell.execute_reply.started": "2024-02-06T20:38:39.146185Z"
    }
   },
   "outputs": [
    {
     "name": "stdout",
     "output_type": "stream",
     "text": [
      "11339\n"
     ]
    }
   ],
   "source": [
    "edges = []\n",
    "valid_papers = set(papers[[0]].values.flatten())\n",
    "print(len(valid_papers))"
   ]
  },
  {
   "cell_type": "code",
   "execution_count": 45,
   "metadata": {
    "execution": {
     "iopub.execute_input": "2024-02-06T20:39:00.664545Z",
     "iopub.status.busy": "2024-02-06T20:39:00.664267Z",
     "iopub.status.idle": "2024-02-06T20:39:01.103534Z",
     "shell.execute_reply": "2024-02-06T20:39:01.102604Z",
     "shell.execute_reply.started": "2024-02-06T20:39:00.664525Z"
    }
   },
   "outputs": [],
   "source": [
    "for idx, paper in papers.iterrows():\n",
    "    for p in paper[1]:\n",
    "        if p in valid_papers:\n",
    "            pair = (paper[0], p)\n",
    "            edges.append(pair)"
   ]
  },
  {
   "cell_type": "code",
   "execution_count": 46,
   "metadata": {
    "execution": {
     "iopub.execute_input": "2024-02-06T20:39:02.296559Z",
     "iopub.status.busy": "2024-02-06T20:39:02.296277Z",
     "iopub.status.idle": "2024-02-06T20:39:02.304094Z",
     "shell.execute_reply": "2024-02-06T20:39:02.303011Z",
     "shell.execute_reply.started": "2024-02-06T20:39:02.296539Z"
    }
   },
   "outputs": [
    {
     "data": {
      "text/plain": [
       "6506"
      ]
     },
     "execution_count": 46,
     "metadata": {},
     "output_type": "execute_result"
    }
   ],
   "source": [
    "len(edges)"
   ]
  },
  {
   "cell_type": "code",
   "execution_count": 47,
   "metadata": {
    "execution": {
     "iopub.execute_input": "2024-02-06T20:39:03.848325Z",
     "iopub.status.busy": "2024-02-06T20:39:03.848057Z",
     "iopub.status.idle": "2024-02-06T20:39:03.853621Z",
     "shell.execute_reply": "2024-02-06T20:39:03.852767Z",
     "shell.execute_reply.started": "2024-02-06T20:39:03.848306Z"
    }
   },
   "outputs": [],
   "source": [
    "valid_papers = list(valid_papers)"
   ]
  },
  {
   "cell_type": "code",
   "execution_count": 48,
   "metadata": {
    "execution": {
     "iopub.execute_input": "2024-02-06T20:39:05.478286Z",
     "iopub.status.busy": "2024-02-06T20:39:05.478026Z",
     "iopub.status.idle": "2024-02-06T20:39:05.482269Z",
     "shell.execute_reply": "2024-02-06T20:39:05.481491Z",
     "shell.execute_reply.started": "2024-02-06T20:39:05.478267Z"
    }
   },
   "outputs": [],
   "source": [
    "from igraph import Graph"
   ]
  },
  {
   "cell_type": "code",
   "execution_count": 49,
   "metadata": {
    "execution": {
     "iopub.execute_input": "2024-02-06T20:39:06.024999Z",
     "iopub.status.busy": "2024-02-06T20:39:06.024752Z",
     "iopub.status.idle": "2024-02-06T20:39:06.039469Z",
     "shell.execute_reply": "2024-02-06T20:39:06.038444Z",
     "shell.execute_reply.started": "2024-02-06T20:39:06.024981Z"
    }
   },
   "outputs": [],
   "source": [
    "net = Graph()\n",
    "net.add_vertices(len(valid_papers))\n",
    "net.vs['name'] = valid_papers\n",
    "net.add_edges(edges)"
   ]
  },
  {
   "cell_type": "code",
   "execution_count": 50,
   "metadata": {
    "execution": {
     "iopub.execute_input": "2024-02-06T20:39:07.130874Z",
     "iopub.status.busy": "2024-02-06T20:39:07.130602Z",
     "iopub.status.idle": "2024-02-06T20:39:07.136383Z",
     "shell.execute_reply": "2024-02-06T20:39:07.135447Z",
     "shell.execute_reply.started": "2024-02-06T20:39:07.130853Z"
    }
   },
   "outputs": [
    {
     "data": {
      "text/plain": [
       "11339"
      ]
     },
     "execution_count": 50,
     "metadata": {},
     "output_type": "execute_result"
    }
   ],
   "source": [
    "net.vcount()"
   ]
  },
  {
   "cell_type": "code",
   "execution_count": 51,
   "metadata": {
    "execution": {
     "iopub.execute_input": "2024-02-06T20:39:07.786875Z",
     "iopub.status.busy": "2024-02-06T20:39:07.786609Z",
     "iopub.status.idle": "2024-02-06T20:39:07.792166Z",
     "shell.execute_reply": "2024-02-06T20:39:07.791172Z",
     "shell.execute_reply.started": "2024-02-06T20:39:07.786856Z"
    }
   },
   "outputs": [
    {
     "data": {
      "text/plain": [
       "6506"
      ]
     },
     "execution_count": 51,
     "metadata": {},
     "output_type": "execute_result"
    }
   ],
   "source": [
    "net.ecount()"
   ]
  },
  {
   "cell_type": "code",
   "execution_count": 52,
   "metadata": {
    "execution": {
     "iopub.execute_input": "2024-02-06T20:39:10.406902Z",
     "iopub.status.busy": "2024-02-06T20:39:10.406644Z",
     "iopub.status.idle": "2024-02-06T20:39:10.549770Z",
     "shell.execute_reply": "2024-02-06T20:39:10.548904Z",
     "shell.execute_reply.started": "2024-02-06T20:39:10.406884Z"
    }
   },
   "outputs": [],
   "source": [
    "title_map = dict(zip(papers[[0]].values.flatten(), titles))"
   ]
  },
  {
   "cell_type": "code",
   "execution_count": 61,
   "metadata": {
    "execution": {
     "iopub.execute_input": "2024-02-06T23:55:24.756616Z",
     "iopub.status.busy": "2024-02-06T23:55:24.756323Z",
     "iopub.status.idle": "2024-02-06T23:55:24.761556Z",
     "shell.execute_reply": "2024-02-06T23:55:24.760862Z",
     "shell.execute_reply.started": "2024-02-06T23:55:24.756595Z"
    }
   },
   "outputs": [
    {
     "data": {
      "text/plain": [
       "['AI-Augmented Behavior Analysis for Children With Developmental Disabilities: Building Toward Precision Treatment',\n",
       " 'Hand tremor detection in videos with cluttered background using neural network based approaches',\n",
       " 'Predictive asset availability optimization for underground trucks and loaders in the mining industry',\n",
       " 'Integrating BIM into sensor-based facilities management operations',\n",
       " 'Detecting and locating cyber and physical stresses in smart grids using the k-nearest neighbour analysis of instantaneous correlation of states']"
      ]
     },
     "execution_count": 61,
     "metadata": {},
     "output_type": "execute_result"
    }
   ],
   "source": [
    "titles[:5]"
   ]
  },
  {
   "cell_type": "code",
   "execution_count": 53,
   "metadata": {
    "execution": {
     "iopub.execute_input": "2024-02-06T20:39:14.375597Z",
     "iopub.status.busy": "2024-02-06T20:39:14.375271Z",
     "iopub.status.idle": "2024-02-06T20:39:14.419427Z",
     "shell.execute_reply": "2024-02-06T20:39:14.418427Z",
     "shell.execute_reply.started": "2024-02-06T20:39:14.375572Z"
    }
   },
   "outputs": [],
   "source": [
    "abst_map = dict(zip(papers[[0]].values.flatten(), abstracts))"
   ]
  },
  {
   "cell_type": "code",
   "execution_count": 54,
   "metadata": {
    "execution": {
     "iopub.execute_input": "2024-02-06T20:39:15.685606Z",
     "iopub.status.busy": "2024-02-06T20:39:15.685339Z",
     "iopub.status.idle": "2024-02-06T20:39:15.690653Z",
     "shell.execute_reply": "2024-02-06T20:39:15.689667Z",
     "shell.execute_reply.started": "2024-02-06T20:39:15.685586Z"
    }
   },
   "outputs": [
    {
     "data": {
      "text/plain": [
       "11339"
      ]
     },
     "execution_count": 54,
     "metadata": {},
     "output_type": "execute_result"
    }
   ],
   "source": [
    "len(title_map)"
   ]
  },
  {
   "cell_type": "code",
   "execution_count": 62,
   "metadata": {
    "execution": {
     "iopub.execute_input": "2024-02-06T23:55:44.617963Z",
     "iopub.status.busy": "2024-02-06T23:55:44.617323Z",
     "iopub.status.idle": "2024-02-06T23:55:44.637983Z",
     "shell.execute_reply": "2024-02-06T23:55:44.636845Z",
     "shell.execute_reply.started": "2024-02-06T23:55:44.617939Z"
    }
   },
   "outputs": [],
   "source": [
    "net.vs['title'] = [title_map[uid] for uid in net.vs['name']]"
   ]
  },
  {
   "cell_type": "code",
   "execution_count": 63,
   "metadata": {
    "execution": {
     "iopub.execute_input": "2024-02-06T23:55:45.184991Z",
     "iopub.status.busy": "2024-02-06T23:55:45.184722Z",
     "iopub.status.idle": "2024-02-06T23:55:45.192260Z",
     "shell.execute_reply": "2024-02-06T23:55:45.191368Z",
     "shell.execute_reply.started": "2024-02-06T23:55:45.184971Z"
    }
   },
   "outputs": [
    {
     "data": {
      "text/plain": [
       "['A Passive Learning Sensor Architecture for Multimodal Image Labeling: An Application for Social Robots',\n",
       " 'Data-Driven Condition Monitoring of Mining Mobile Machinery in Non-Stationary Operations Using Wireless Accelerometer Sensor Modules',\n",
       " 'Deep Learning Based Prediction Towards Designing A Smart Building Assistant System',\n",
       " 'Deep Person Detection in Two-Dimensional Range Data',\n",
       " 'Machine Vision for UAS Ground Operations',\n",
       " 'A deep learning based secured energy management framework within a smart island',\n",
       " 'Automatic Video Editing for Sensor-Rich Videos',\n",
       " 'Using Touchscreen Interaction Data to Predict Cognitive Workload',\n",
       " 'Surface EMG vs. High-Density EMG: Tradeoff Between Performance and Usability for Head Orientation Prediction in VR Application',\n",
       " 'Sniff Species: SURMOF-Based Sensor Array Discriminates Aromatic Plants beyond the Genus Level']"
      ]
     },
     "execution_count": 63,
     "metadata": {},
     "output_type": "execute_result"
    }
   ],
   "source": [
    "net.vs['title'][:10]"
   ]
  },
  {
   "cell_type": "code",
   "execution_count": 65,
   "metadata": {
    "execution": {
     "iopub.execute_input": "2024-02-06T23:56:17.578994Z",
     "iopub.status.busy": "2024-02-06T23:56:17.578745Z",
     "iopub.status.idle": "2024-02-06T23:56:17.588905Z",
     "shell.execute_reply": "2024-02-06T23:56:17.588059Z",
     "shell.execute_reply.started": "2024-02-06T23:56:17.578976Z"
    }
   },
   "outputs": [],
   "source": [
    "net.vs['abstract'] = [abst_map[uid] for uid in net.vs['name']]"
   ]
  },
  {
   "cell_type": "code",
   "execution_count": 67,
   "metadata": {
    "execution": {
     "iopub.execute_input": "2024-02-06T23:56:23.115098Z",
     "iopub.status.busy": "2024-02-06T23:56:23.114848Z",
     "iopub.status.idle": "2024-02-06T23:56:23.119064Z",
     "shell.execute_reply": "2024-02-06T23:56:23.118305Z",
     "shell.execute_reply.started": "2024-02-06T23:56:23.115080Z"
    }
   },
   "outputs": [],
   "source": [
    "# net.vs['abstract'][:5]"
   ]
  },
  {
   "cell_type": "code",
   "execution_count": 68,
   "metadata": {
    "execution": {
     "iopub.execute_input": "2024-02-06T23:56:25.677619Z",
     "iopub.status.busy": "2024-02-06T23:56:25.677330Z",
     "iopub.status.idle": "2024-02-06T23:56:25.987944Z",
     "shell.execute_reply": "2024-02-06T23:56:25.986984Z",
     "shell.execute_reply.started": "2024-02-06T23:56:25.677600Z"
    }
   },
   "outputs": [],
   "source": [
    "xnet.igraph2xnet(net, 'cit_sensos_network_daniel_06_02.xnet')"
   ]
  },
  {
   "cell_type": "code",
   "execution_count": 69,
   "metadata": {
    "execution": {
     "iopub.execute_input": "2024-02-06T23:56:26.766879Z",
     "iopub.status.busy": "2024-02-06T23:56:26.766602Z",
     "iopub.status.idle": "2024-02-06T23:56:26.772090Z",
     "shell.execute_reply": "2024-02-06T23:56:26.771305Z",
     "shell.execute_reply.started": "2024-02-06T23:56:26.766859Z"
    }
   },
   "outputs": [
    {
     "data": {
      "text/plain": [
       "['name', 'title', 'abstract']"
      ]
     },
     "execution_count": 69,
     "metadata": {},
     "output_type": "execute_result"
    }
   ],
   "source": [
    "net.vs.attributes()"
   ]
  },
  {
   "cell_type": "code",
   "execution_count": null,
   "metadata": {},
   "outputs": [],
   "source": []
  },
  {
   "cell_type": "code",
   "execution_count": null,
   "metadata": {},
   "outputs": [],
   "source": []
  }
 ],
 "metadata": {
  "kernelspec": {
   "display_name": "Python 3 (ipykernel)",
   "language": "python",
   "name": "python3"
  },
  "language_info": {
   "codemirror_mode": {
    "name": "ipython",
    "version": 3
   },
   "file_extension": ".py",
   "mimetype": "text/x-python",
   "name": "python",
   "nbconvert_exporter": "python",
   "pygments_lexer": "ipython3",
   "version": "3.8.10"
  }
 },
 "nbformat": 4,
 "nbformat_minor": 4
}
